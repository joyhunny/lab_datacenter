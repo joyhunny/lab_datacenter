{
 "cells": [
  {
   "cell_type": "code",
   "execution_count": 6,
   "metadata": {},
   "outputs": [],
   "source": [
    "import threading \n",
    "from urllib import request\n",
    "import winsound\n",
    "import json\n",
    "\n",
    "\n"
   ]
  },
  {
   "cell_type": "code",
   "execution_count": 10,
   "metadata": {},
   "outputs": [],
   "source": [
    "def main():\n",
    "    print(\"### STARTING... ###\")\n",
    "    checkCoin('https://min-api.cryptocompare.com/data/pricemulti?fsyms=STEEM&tsyms=BTC,USD,KRW')\n",
    "    \n",
    "def checkCoin(url):\n",
    "    threading.Timer(10, checkCoin, [url]).start()\n",
    "    data = request.urlopen(url).read(2000) # number of chars that should catch the announcement\n",
    "\n",
    "    print(\"########### http data ############\")\n",
    "    #print(data)\n",
    "\n",
    "    json_data = json.loads(data)\n",
    "    print(json_data)\n",
    "    print(json_data[\"STEEM\"][\"KRW\"])\n",
    "\n",
    "    krw = json_data[\"STEEM\"][\"KRW\"]\n",
    "\n",
    "    if krw > 3000:\n",
    "        print(\"▲▲▲\")\n",
    "        winsound.PlaySound(\"SystemExclamation\", winsound.SND_ALIAS)\n",
    "    else:\n",
    "        print(\"Nothing\")\n",
    "    "
   ]
  },
  {
   "cell_type": "code",
   "execution_count": 11,
   "metadata": {},
   "outputs": [
    {
     "name": "stdout",
     "output_type": "stream",
     "text": [
      "### STARTING... ###\n",
      "########### http data ############\n",
      "{'STEEM': {'BTC': 0.0001996, 'USD': 2.83, 'KRW': 3928.88}}\n",
      "3928.88\n",
      "▲▲▲\n",
      "########### http data ############\n",
      "{'STEEM': {'BTC': 0.0001996, 'USD': 2.83, 'KRW': 3928.88}}\n",
      "3928.88\n",
      "▲▲▲\n"
     ]
    }
   ],
   "source": [
    "\n",
    "main()"
   ]
  }
 ],
 "metadata": {
  "kernelspec": {
   "display_name": "Python 3",
   "language": "python",
   "name": "python3"
  },
  "language_info": {
   "codemirror_mode": {
    "name": "ipython",
    "version": 3
   },
   "file_extension": ".py",
   "mimetype": "text/x-python",
   "name": "python",
   "nbconvert_exporter": "python",
   "pygments_lexer": "ipython3",
   "version": "3.6.4"
  }
 },
 "nbformat": 4,
 "nbformat_minor": 2
}
